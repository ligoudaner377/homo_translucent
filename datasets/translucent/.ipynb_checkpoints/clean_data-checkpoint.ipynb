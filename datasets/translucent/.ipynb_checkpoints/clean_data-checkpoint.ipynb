{
 "cells": [
  {
   "cell_type": "code",
   "execution_count": 2,
   "metadata": {},
   "outputs": [],
   "source": [
    "import os\n",
    "from PIL import Image\n",
    "import shutil\n",
    "import numpy as np\n",
    "import OpenEXR\n",
    "import matplotlib.pyplot as plt\n",
    "import torch"
   ]
  },
  {
   "cell_type": "code",
   "execution_count": 14,
   "metadata": {},
   "outputs": [],
   "source": [
    "mode = 'train'\n",
    "floders = os.listdir(mode)\n",
    "for floder in floders:\n",
    "    normal = os.path.join(mode, floder, 'normal.png')\n",
    "    scene = os.path.join(mode, floder, 'scene.png')\n",
    "    depth = os.path.join(mode, floder, 'depth.npy')\n",
    "    roughness = os.path.join(mode, floder, 'roughness.png')\n",
    "    albedo = os.path.join(mode, floder, 'albedo.png')\n",
    "    bad = os.path.join(mode, floder, 'bad')\n",
    "    \n",
    "    if os.path.isdir(os.path.join(mode, floder)):\n",
    "        file_size = os.path.getsize(scene)\n",
    "        if file_size>10000000:\n",
    "            #shutil.rmtree(os.path.join(mode, floder))\n",
    "            print(floder, '|', file_size)\n",
    "            \n",
    "    '''if not os.path.exists(roughness):\n",
    "        if os.path.isdir(os.path.join(mode, floder)):\n",
    "            shutil.rmtree(os.path.join(mode, floder))\n",
    "            print(floder)'''\n",
    "    "
   ]
  },
  {
   "cell_type": "code",
   "execution_count": 66,
   "metadata": {},
   "outputs": [],
   "source": [
    "mode = 'train'\n",
    "floders = os.listdir(mode)\n",
    "for floder in floders:\n",
    "    depth_path = os.path.join(mode, floder, 'depth.exr')\n",
    "    depth = np.frombuffer(OpenEXR.InputFile(depth_path).channel('Y'), dtype=np.float32).reshape(256, 256)\n",
    "    \n",
    "    mask = (depth!=0)\n",
    "    Image.fromarray(mask).save(os.path.join(mode, floder, 'mask.png'))\n",
    "    \n",
    "    \n",
    "    #np.save(os.path.join(mode, floder, 'depth.npy'), np.expand_dims(depth, axis=0))\n",
    "    \n",
    "    \n",
    "    #depth_path = os.path.join(mode, floder, 'depth.png')\n",
    "    #os.remove(depth_path)\n",
    "    \n"
   ]
  },
  {
   "cell_type": "code",
   "execution_count": 104,
   "metadata": {},
   "outputs": [
    {
     "name": "stdout",
     "output_type": "stream",
     "text": [
      "1.0\n"
     ]
    },
    {
     "data": {
      "text/plain": [
       "<matplotlib.image.AxesImage at 0x7fb9f470b9d0>"
      ]
     },
     "execution_count": 104,
     "metadata": {},
     "output_type": "execute_result"
    },
    {
     "data": {
      "image/png": "[encoded data removed]",
      "text/plain": [
       "<Figure size 432x288 with 1 Axes>"
      ]
     },
     "metadata": {
      "needs_background": "light"
     },
     "output_type": "display_data"
    }
   ],
   "source": [
    "depth = np.load(os.path.join(mode, '88861', 'depth.npy'))\n",
    "depth_max = np.max(depth)\n",
    "depth = depth/depth_max\n",
    "plt.imshow(depth[0, :, :], cmap='gray')"
   ]
  },
  {
   "cell_type": "code",
   "execution_count": 99,
   "metadata": {},
   "outputs": [
    {
     "data": {
      "text/plain": [
       "255"
      ]
     },
     "execution_count": 99,
     "metadata": {},
     "output_type": "execute_result"
    }
   ],
   "source": [
    "np.array(Image.open(os.path.join('train', '88861', 'mask.png')).convert('L')).max()"
   ]
  }
 ],
 "metadata": {
  "kernelspec": {
   "display_name": "Python 3",
   "language": "python",
   "name": "python3"
  },
  "language_info": {
   "codemirror_mode": {
    "name": "ipython",
    "version": 3
   },
   "file_extension": ".py",
   "mimetype": "text/x-python",
   "name": "python",
   "nbconvert_exporter": "python",
   "pygments_lexer": "ipython3",
   "version": "3.8.5"
  }
 },
 "nbformat": 4,
 "nbformat_minor": 4
}
